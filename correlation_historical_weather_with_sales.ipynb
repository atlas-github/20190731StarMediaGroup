{
  "nbformat": 4,
  "nbformat_minor": 0,
  "metadata": {
    "colab": {
      "provenance": [],
      "authorship_tag": "ABX9TyM7mnGPM8Kmim840FXv+wiq",
      "include_colab_link": true
    },
    "kernelspec": {
      "name": "python3",
      "display_name": "Python 3"
    },
    "language_info": {
      "name": "python"
    }
  },
  "cells": [
    {
      "cell_type": "markdown",
      "metadata": {
        "id": "view-in-github",
        "colab_type": "text"
      },
      "source": [
        "<a href=\"https://colab.research.google.com/github/atlas-github/20190731StarMediaGroup/blob/master/correlation_historical_weather_with_sales.ipynb\" target=\"_parent\"><img src=\"https://colab.research.google.com/assets/colab-badge.svg\" alt=\"Open In Colab\"/></a>"
      ]
    },
    {
      "cell_type": "markdown",
      "source": [
        "#Make API call for one specific coordinate"
      ],
      "metadata": {
        "id": "sjS5QL9XTp0J"
      }
    },
    {
      "cell_type": "markdown",
      "source": [
        "Source of weather data can be found at [Open-Meteo](https://open-meteo.com/en/docs/historical-weather-api). No payment needed.\n",
        "\n",
        "Notice the latitude, longitude, start date, end date, weather data types, and timezone settings in the URL below.\n",
        "\n",
        "The coordinate below is for the branch at Suria KLCC."
      ],
      "metadata": {
        "id": "vov1QUwOT0MO"
      }
    },
    {
      "cell_type": "code",
      "execution_count": 1,
      "metadata": {
        "colab": {
          "base_uri": "https://localhost:8080/"
        },
        "id": "gjFVH6XCPIYM",
        "outputId": "f803a30c-201d-483b-92c0-e8766fd8717c"
      },
      "outputs": [
        {
          "output_type": "execute_result",
          "data": {
            "text/plain": [
              "<Response [200]>"
            ]
          },
          "metadata": {},
          "execution_count": 1
        }
      ],
      "source": [
        "import requests\n",
        "import pandas as pd\n",
        "\n",
        "# API URL\n",
        "url = \"https://archive-api.open-meteo.com/v1/archive\"\n",
        "\n",
        "# Query parameters\n",
        "params = {\n",
        "    \"latitude\": 3.158003670011451,\n",
        "    \"longitude\": 101.71223105634625,\n",
        "    \"start_date\": \"2023-01-01\",\n",
        "    \"end_date\": \"2023-05-31\",\n",
        "    \"hourly\": \"temperature_2m,precipitation,rain\",\n",
        "    \"timezone\": \"Asia/Singapore\"\n",
        "}\n",
        "\n",
        "# Send GET request to API\n",
        "response = requests.get(url, params=params)\n",
        "response"
      ]
    },
    {
      "cell_type": "markdown",
      "source": [
        "Alternative data source is {OpenWeather](https://openweathermap.org/price), but requires sign in. Free quota is 1,000 API calls daily, and the price for exceeding the free quota is 0.0012 GBP per API call over the daily limit.\n",
        "\n",
        "Converting the json object above into a table gives is the following result:"
      ],
      "metadata": {
        "id": "nYYIeHssT-GT"
      }
    },
    {
      "cell_type": "code",
      "source": [
        "# Check if the request was successful\n",
        "if response.status_code == 200:\n",
        "    # Parse JSON response\n",
        "    data = response.json()\n",
        "\n",
        "    # Extract relevant data from the response\n",
        "    time_list = data[\"hourly\"][\"time\"]\n",
        "    temperature_list = data[\"hourly\"][\"temperature_2m\"]\n",
        "    precipitation_list = data[\"hourly\"][\"precipitation\"]\n",
        "    rain_list = data[\"hourly\"][\"rain\"]\n",
        "\n",
        "    # Create a DataFrame\n",
        "    df = pd.DataFrame({\n",
        "        \"Time\": time_list,\n",
        "        \"Temperature (°C)\": temperature_list,\n",
        "        \"Precipitation (mm)\": precipitation_list,\n",
        "        \"Rain (mm)\": rain_list\n",
        "    })\n",
        "\n",
        "    # Display the DataFrame\n",
        "    df\n",
        "else:\n",
        "    print(\"Error:\", response.status_code)"
      ],
      "metadata": {
        "id": "MgGlWMKbaaLa"
      },
      "execution_count": 2,
      "outputs": []
    },
    {
      "cell_type": "code",
      "source": [
        "df"
      ],
      "metadata": {
        "colab": {
          "base_uri": "https://localhost:8080/",
          "height": 424
        },
        "id": "4l8TgLeVbERJ",
        "outputId": "1f1462d3-795b-4975-ca1c-0ce98183d957"
      },
      "execution_count": 3,
      "outputs": [
        {
          "output_type": "execute_result",
          "data": {
            "text/plain": [
              "                  Time  Temperature (°C)  Precipitation (mm)  Rain (mm)\n",
              "0     2023-01-01T00:00              23.7                 0.0        0.0\n",
              "1     2023-01-01T01:00              23.1                 0.0        0.0\n",
              "2     2023-01-01T02:00              22.6                 0.0        0.0\n",
              "3     2023-01-01T03:00              22.4                 0.0        0.0\n",
              "4     2023-01-01T04:00              22.4                 0.0        0.0\n",
              "...                ...               ...                 ...        ...\n",
              "3619  2023-05-31T19:00              29.3                 0.0        0.0\n",
              "3620  2023-05-31T20:00              27.9                 0.0        0.0\n",
              "3621  2023-05-31T21:00              27.4                 0.0        0.0\n",
              "3622  2023-05-31T22:00              27.3                 0.0        0.0\n",
              "3623  2023-05-31T23:00              26.5                 0.0        0.0\n",
              "\n",
              "[3624 rows x 4 columns]"
            ],
            "text/html": [
              "\n",
              "  <div id=\"df-30189616-09cd-4e80-89df-8178d31654d7\">\n",
              "    <div class=\"colab-df-container\">\n",
              "      <div>\n",
              "<style scoped>\n",
              "    .dataframe tbody tr th:only-of-type {\n",
              "        vertical-align: middle;\n",
              "    }\n",
              "\n",
              "    .dataframe tbody tr th {\n",
              "        vertical-align: top;\n",
              "    }\n",
              "\n",
              "    .dataframe thead th {\n",
              "        text-align: right;\n",
              "    }\n",
              "</style>\n",
              "<table border=\"1\" class=\"dataframe\">\n",
              "  <thead>\n",
              "    <tr style=\"text-align: right;\">\n",
              "      <th></th>\n",
              "      <th>Time</th>\n",
              "      <th>Temperature (°C)</th>\n",
              "      <th>Precipitation (mm)</th>\n",
              "      <th>Rain (mm)</th>\n",
              "    </tr>\n",
              "  </thead>\n",
              "  <tbody>\n",
              "    <tr>\n",
              "      <th>0</th>\n",
              "      <td>2023-01-01T00:00</td>\n",
              "      <td>23.7</td>\n",
              "      <td>0.0</td>\n",
              "      <td>0.0</td>\n",
              "    </tr>\n",
              "    <tr>\n",
              "      <th>1</th>\n",
              "      <td>2023-01-01T01:00</td>\n",
              "      <td>23.1</td>\n",
              "      <td>0.0</td>\n",
              "      <td>0.0</td>\n",
              "    </tr>\n",
              "    <tr>\n",
              "      <th>2</th>\n",
              "      <td>2023-01-01T02:00</td>\n",
              "      <td>22.6</td>\n",
              "      <td>0.0</td>\n",
              "      <td>0.0</td>\n",
              "    </tr>\n",
              "    <tr>\n",
              "      <th>3</th>\n",
              "      <td>2023-01-01T03:00</td>\n",
              "      <td>22.4</td>\n",
              "      <td>0.0</td>\n",
              "      <td>0.0</td>\n",
              "    </tr>\n",
              "    <tr>\n",
              "      <th>4</th>\n",
              "      <td>2023-01-01T04:00</td>\n",
              "      <td>22.4</td>\n",
              "      <td>0.0</td>\n",
              "      <td>0.0</td>\n",
              "    </tr>\n",
              "    <tr>\n",
              "      <th>...</th>\n",
              "      <td>...</td>\n",
              "      <td>...</td>\n",
              "      <td>...</td>\n",
              "      <td>...</td>\n",
              "    </tr>\n",
              "    <tr>\n",
              "      <th>3619</th>\n",
              "      <td>2023-05-31T19:00</td>\n",
              "      <td>29.3</td>\n",
              "      <td>0.0</td>\n",
              "      <td>0.0</td>\n",
              "    </tr>\n",
              "    <tr>\n",
              "      <th>3620</th>\n",
              "      <td>2023-05-31T20:00</td>\n",
              "      <td>27.9</td>\n",
              "      <td>0.0</td>\n",
              "      <td>0.0</td>\n",
              "    </tr>\n",
              "    <tr>\n",
              "      <th>3621</th>\n",
              "      <td>2023-05-31T21:00</td>\n",
              "      <td>27.4</td>\n",
              "      <td>0.0</td>\n",
              "      <td>0.0</td>\n",
              "    </tr>\n",
              "    <tr>\n",
              "      <th>3622</th>\n",
              "      <td>2023-05-31T22:00</td>\n",
              "      <td>27.3</td>\n",
              "      <td>0.0</td>\n",
              "      <td>0.0</td>\n",
              "    </tr>\n",
              "    <tr>\n",
              "      <th>3623</th>\n",
              "      <td>2023-05-31T23:00</td>\n",
              "      <td>26.5</td>\n",
              "      <td>0.0</td>\n",
              "      <td>0.0</td>\n",
              "    </tr>\n",
              "  </tbody>\n",
              "</table>\n",
              "<p>3624 rows × 4 columns</p>\n",
              "</div>\n",
              "      <button class=\"colab-df-convert\" onclick=\"convertToInteractive('df-30189616-09cd-4e80-89df-8178d31654d7')\"\n",
              "              title=\"Convert this dataframe to an interactive table.\"\n",
              "              style=\"display:none;\">\n",
              "        \n",
              "  <svg xmlns=\"http://www.w3.org/2000/svg\" height=\"24px\"viewBox=\"0 0 24 24\"\n",
              "       width=\"24px\">\n",
              "    <path d=\"M0 0h24v24H0V0z\" fill=\"none\"/>\n",
              "    <path d=\"M18.56 5.44l.94 2.06.94-2.06 2.06-.94-2.06-.94-.94-2.06-.94 2.06-2.06.94zm-11 1L8.5 8.5l.94-2.06 2.06-.94-2.06-.94L8.5 2.5l-.94 2.06-2.06.94zm10 10l.94 2.06.94-2.06 2.06-.94-2.06-.94-.94-2.06-.94 2.06-2.06.94z\"/><path d=\"M17.41 7.96l-1.37-1.37c-.4-.4-.92-.59-1.43-.59-.52 0-1.04.2-1.43.59L10.3 9.45l-7.72 7.72c-.78.78-.78 2.05 0 2.83L4 21.41c.39.39.9.59 1.41.59.51 0 1.02-.2 1.41-.59l7.78-7.78 2.81-2.81c.8-.78.8-2.07 0-2.86zM5.41 20L4 18.59l7.72-7.72 1.47 1.35L5.41 20z\"/>\n",
              "  </svg>\n",
              "      </button>\n",
              "      \n",
              "  <style>\n",
              "    .colab-df-container {\n",
              "      display:flex;\n",
              "      flex-wrap:wrap;\n",
              "      gap: 12px;\n",
              "    }\n",
              "\n",
              "    .colab-df-convert {\n",
              "      background-color: #E8F0FE;\n",
              "      border: none;\n",
              "      border-radius: 50%;\n",
              "      cursor: pointer;\n",
              "      display: none;\n",
              "      fill: #1967D2;\n",
              "      height: 32px;\n",
              "      padding: 0 0 0 0;\n",
              "      width: 32px;\n",
              "    }\n",
              "\n",
              "    .colab-df-convert:hover {\n",
              "      background-color: #E2EBFA;\n",
              "      box-shadow: 0px 1px 2px rgba(60, 64, 67, 0.3), 0px 1px 3px 1px rgba(60, 64, 67, 0.15);\n",
              "      fill: #174EA6;\n",
              "    }\n",
              "\n",
              "    [theme=dark] .colab-df-convert {\n",
              "      background-color: #3B4455;\n",
              "      fill: #D2E3FC;\n",
              "    }\n",
              "\n",
              "    [theme=dark] .colab-df-convert:hover {\n",
              "      background-color: #434B5C;\n",
              "      box-shadow: 0px 1px 3px 1px rgba(0, 0, 0, 0.15);\n",
              "      filter: drop-shadow(0px 1px 2px rgba(0, 0, 0, 0.3));\n",
              "      fill: #FFFFFF;\n",
              "    }\n",
              "  </style>\n",
              "\n",
              "      <script>\n",
              "        const buttonEl =\n",
              "          document.querySelector('#df-30189616-09cd-4e80-89df-8178d31654d7 button.colab-df-convert');\n",
              "        buttonEl.style.display =\n",
              "          google.colab.kernel.accessAllowed ? 'block' : 'none';\n",
              "\n",
              "        async function convertToInteractive(key) {\n",
              "          const element = document.querySelector('#df-30189616-09cd-4e80-89df-8178d31654d7');\n",
              "          const dataTable =\n",
              "            await google.colab.kernel.invokeFunction('convertToInteractive',\n",
              "                                                     [key], {});\n",
              "          if (!dataTable) return;\n",
              "\n",
              "          const docLinkHtml = 'Like what you see? Visit the ' +\n",
              "            '<a target=\"_blank\" href=https://colab.research.google.com/notebooks/data_table.ipynb>data table notebook</a>'\n",
              "            + ' to learn more about interactive tables.';\n",
              "          element.innerHTML = '';\n",
              "          dataTable['output_type'] = 'display_data';\n",
              "          await google.colab.output.renderOutput(dataTable, element);\n",
              "          const docLink = document.createElement('div');\n",
              "          docLink.innerHTML = docLinkHtml;\n",
              "          element.appendChild(docLink);\n",
              "        }\n",
              "      </script>\n",
              "    </div>\n",
              "  </div>\n",
              "  "
            ]
          },
          "metadata": {},
          "execution_count": 3
        }
      ]
    },
    {
      "cell_type": "markdown",
      "source": [
        "Classify rain level"
      ],
      "metadata": {
        "id": "f34wv8LR2N_S"
      }
    },
    {
      "cell_type": "markdown",
      "source": [
        "![Rain Classification.png](data:image/png;base64,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)"
      ],
      "metadata": {
        "id": "qozOyuUB2EAK"
      }
    },
    {
      "cell_type": "code",
      "source": [
        "#define rain function\n",
        "\n",
        "def rain(x):\n",
        "  if x < 0.5:\n",
        "    return \"Slight rain\"\n",
        "  if (x >= 0.5 and x < 4.0):\n",
        "    return \"Moderate rain\"\n",
        "  if (x >= 4.0 and x < 8.0):\n",
        "    return \"Heavy rain\"\n",
        "  if x >= 8.0:\n",
        "    return \"Very heavy rain\""
      ],
      "metadata": {
        "id": "Yabk_K9Z2T0P"
      },
      "execution_count": 6,
      "outputs": []
    },
    {
      "cell_type": "code",
      "source": [
        "#applying the filter function to 'Salary' column\n",
        "\n",
        "df['Classification'] = df['Precipitation (mm)'].apply(rain)"
      ],
      "metadata": {
        "id": "h6NSxkoj3159"
      },
      "execution_count": 9,
      "outputs": []
    },
    {
      "cell_type": "code",
      "source": [
        "df"
      ],
      "metadata": {
        "colab": {
          "base_uri": "https://localhost:8080/",
          "height": 424
        },
        "id": "WWCBCBWJ4Dy4",
        "outputId": "b6347702-65cf-49b8-c5ef-57b92c028700"
      },
      "execution_count": 10,
      "outputs": [
        {
          "output_type": "execute_result",
          "data": {
            "text/plain": [
              "                  Time  Temperature (°C)  Precipitation (mm)  Rain (mm)  \\\n",
              "0     2023-01-01T00:00              23.7                 0.0        0.0   \n",
              "1     2023-01-01T01:00              23.1                 0.0        0.0   \n",
              "2     2023-01-01T02:00              22.6                 0.0        0.0   \n",
              "3     2023-01-01T03:00              22.4                 0.0        0.0   \n",
              "4     2023-01-01T04:00              22.4                 0.0        0.0   \n",
              "...                ...               ...                 ...        ...   \n",
              "3619  2023-05-31T19:00              29.3                 0.0        0.0   \n",
              "3620  2023-05-31T20:00              27.9                 0.0        0.0   \n",
              "3621  2023-05-31T21:00              27.4                 0.0        0.0   \n",
              "3622  2023-05-31T22:00              27.3                 0.0        0.0   \n",
              "3623  2023-05-31T23:00              26.5                 0.0        0.0   \n",
              "\n",
              "     Classification  \n",
              "0       Slight rain  \n",
              "1       Slight rain  \n",
              "2       Slight rain  \n",
              "3       Slight rain  \n",
              "4       Slight rain  \n",
              "...             ...  \n",
              "3619    Slight rain  \n",
              "3620    Slight rain  \n",
              "3621    Slight rain  \n",
              "3622    Slight rain  \n",
              "3623    Slight rain  \n",
              "\n",
              "[3624 rows x 5 columns]"
            ],
            "text/html": [
              "\n",
              "  <div id=\"df-73cd5e15-8c51-49c6-9aec-36e72080407c\">\n",
              "    <div class=\"colab-df-container\">\n",
              "      <div>\n",
              "<style scoped>\n",
              "    .dataframe tbody tr th:only-of-type {\n",
              "        vertical-align: middle;\n",
              "    }\n",
              "\n",
              "    .dataframe tbody tr th {\n",
              "        vertical-align: top;\n",
              "    }\n",
              "\n",
              "    .dataframe thead th {\n",
              "        text-align: right;\n",
              "    }\n",
              "</style>\n",
              "<table border=\"1\" class=\"dataframe\">\n",
              "  <thead>\n",
              "    <tr style=\"text-align: right;\">\n",
              "      <th></th>\n",
              "      <th>Time</th>\n",
              "      <th>Temperature (°C)</th>\n",
              "      <th>Precipitation (mm)</th>\n",
              "      <th>Rain (mm)</th>\n",
              "      <th>Classification</th>\n",
              "    </tr>\n",
              "  </thead>\n",
              "  <tbody>\n",
              "    <tr>\n",
              "      <th>0</th>\n",
              "      <td>2023-01-01T00:00</td>\n",
              "      <td>23.7</td>\n",
              "      <td>0.0</td>\n",
              "      <td>0.0</td>\n",
              "      <td>Slight rain</td>\n",
              "    </tr>\n",
              "    <tr>\n",
              "      <th>1</th>\n",
              "      <td>2023-01-01T01:00</td>\n",
              "      <td>23.1</td>\n",
              "      <td>0.0</td>\n",
              "      <td>0.0</td>\n",
              "      <td>Slight rain</td>\n",
              "    </tr>\n",
              "    <tr>\n",
              "      <th>2</th>\n",
              "      <td>2023-01-01T02:00</td>\n",
              "      <td>22.6</td>\n",
              "      <td>0.0</td>\n",
              "      <td>0.0</td>\n",
              "      <td>Slight rain</td>\n",
              "    </tr>\n",
              "    <tr>\n",
              "      <th>3</th>\n",
              "      <td>2023-01-01T03:00</td>\n",
              "      <td>22.4</td>\n",
              "      <td>0.0</td>\n",
              "      <td>0.0</td>\n",
              "      <td>Slight rain</td>\n",
              "    </tr>\n",
              "    <tr>\n",
              "      <th>4</th>\n",
              "      <td>2023-01-01T04:00</td>\n",
              "      <td>22.4</td>\n",
              "      <td>0.0</td>\n",
              "      <td>0.0</td>\n",
              "      <td>Slight rain</td>\n",
              "    </tr>\n",
              "    <tr>\n",
              "      <th>...</th>\n",
              "      <td>...</td>\n",
              "      <td>...</td>\n",
              "      <td>...</td>\n",
              "      <td>...</td>\n",
              "      <td>...</td>\n",
              "    </tr>\n",
              "    <tr>\n",
              "      <th>3619</th>\n",
              "      <td>2023-05-31T19:00</td>\n",
              "      <td>29.3</td>\n",
              "      <td>0.0</td>\n",
              "      <td>0.0</td>\n",
              "      <td>Slight rain</td>\n",
              "    </tr>\n",
              "    <tr>\n",
              "      <th>3620</th>\n",
              "      <td>2023-05-31T20:00</td>\n",
              "      <td>27.9</td>\n",
              "      <td>0.0</td>\n",
              "      <td>0.0</td>\n",
              "      <td>Slight rain</td>\n",
              "    </tr>\n",
              "    <tr>\n",
              "      <th>3621</th>\n",
              "      <td>2023-05-31T21:00</td>\n",
              "      <td>27.4</td>\n",
              "      <td>0.0</td>\n",
              "      <td>0.0</td>\n",
              "      <td>Slight rain</td>\n",
              "    </tr>\n",
              "    <tr>\n",
              "      <th>3622</th>\n",
              "      <td>2023-05-31T22:00</td>\n",
              "      <td>27.3</td>\n",
              "      <td>0.0</td>\n",
              "      <td>0.0</td>\n",
              "      <td>Slight rain</td>\n",
              "    </tr>\n",
              "    <tr>\n",
              "      <th>3623</th>\n",
              "      <td>2023-05-31T23:00</td>\n",
              "      <td>26.5</td>\n",
              "      <td>0.0</td>\n",
              "      <td>0.0</td>\n",
              "      <td>Slight rain</td>\n",
              "    </tr>\n",
              "  </tbody>\n",
              "</table>\n",
              "<p>3624 rows × 5 columns</p>\n",
              "</div>\n",
              "      <button class=\"colab-df-convert\" onclick=\"convertToInteractive('df-73cd5e15-8c51-49c6-9aec-36e72080407c')\"\n",
              "              title=\"Convert this dataframe to an interactive table.\"\n",
              "              style=\"display:none;\">\n",
              "        \n",
              "  <svg xmlns=\"http://www.w3.org/2000/svg\" height=\"24px\"viewBox=\"0 0 24 24\"\n",
              "       width=\"24px\">\n",
              "    <path d=\"M0 0h24v24H0V0z\" fill=\"none\"/>\n",
              "    <path d=\"M18.56 5.44l.94 2.06.94-2.06 2.06-.94-2.06-.94-.94-2.06-.94 2.06-2.06.94zm-11 1L8.5 8.5l.94-2.06 2.06-.94-2.06-.94L8.5 2.5l-.94 2.06-2.06.94zm10 10l.94 2.06.94-2.06 2.06-.94-2.06-.94-.94-2.06-.94 2.06-2.06.94z\"/><path d=\"M17.41 7.96l-1.37-1.37c-.4-.4-.92-.59-1.43-.59-.52 0-1.04.2-1.43.59L10.3 9.45l-7.72 7.72c-.78.78-.78 2.05 0 2.83L4 21.41c.39.39.9.59 1.41.59.51 0 1.02-.2 1.41-.59l7.78-7.78 2.81-2.81c.8-.78.8-2.07 0-2.86zM5.41 20L4 18.59l7.72-7.72 1.47 1.35L5.41 20z\"/>\n",
              "  </svg>\n",
              "      </button>\n",
              "      \n",
              "  <style>\n",
              "    .colab-df-container {\n",
              "      display:flex;\n",
              "      flex-wrap:wrap;\n",
              "      gap: 12px;\n",
              "    }\n",
              "\n",
              "    .colab-df-convert {\n",
              "      background-color: #E8F0FE;\n",
              "      border: none;\n",
              "      border-radius: 50%;\n",
              "      cursor: pointer;\n",
              "      display: none;\n",
              "      fill: #1967D2;\n",
              "      height: 32px;\n",
              "      padding: 0 0 0 0;\n",
              "      width: 32px;\n",
              "    }\n",
              "\n",
              "    .colab-df-convert:hover {\n",
              "      background-color: #E2EBFA;\n",
              "      box-shadow: 0px 1px 2px rgba(60, 64, 67, 0.3), 0px 1px 3px 1px rgba(60, 64, 67, 0.15);\n",
              "      fill: #174EA6;\n",
              "    }\n",
              "\n",
              "    [theme=dark] .colab-df-convert {\n",
              "      background-color: #3B4455;\n",
              "      fill: #D2E3FC;\n",
              "    }\n",
              "\n",
              "    [theme=dark] .colab-df-convert:hover {\n",
              "      background-color: #434B5C;\n",
              "      box-shadow: 0px 1px 3px 1px rgba(0, 0, 0, 0.15);\n",
              "      filter: drop-shadow(0px 1px 2px rgba(0, 0, 0, 0.3));\n",
              "      fill: #FFFFFF;\n",
              "    }\n",
              "  </style>\n",
              "\n",
              "      <script>\n",
              "        const buttonEl =\n",
              "          document.querySelector('#df-73cd5e15-8c51-49c6-9aec-36e72080407c button.colab-df-convert');\n",
              "        buttonEl.style.display =\n",
              "          google.colab.kernel.accessAllowed ? 'block' : 'none';\n",
              "\n",
              "        async function convertToInteractive(key) {\n",
              "          const element = document.querySelector('#df-73cd5e15-8c51-49c6-9aec-36e72080407c');\n",
              "          const dataTable =\n",
              "            await google.colab.kernel.invokeFunction('convertToInteractive',\n",
              "                                                     [key], {});\n",
              "          if (!dataTable) return;\n",
              "\n",
              "          const docLinkHtml = 'Like what you see? Visit the ' +\n",
              "            '<a target=\"_blank\" href=https://colab.research.google.com/notebooks/data_table.ipynb>data table notebook</a>'\n",
              "            + ' to learn more about interactive tables.';\n",
              "          element.innerHTML = '';\n",
              "          dataTable['output_type'] = 'display_data';\n",
              "          await google.colab.output.renderOutput(dataTable, element);\n",
              "          const docLink = document.createElement('div');\n",
              "          docLink.innerHTML = docLinkHtml;\n",
              "          element.appendChild(docLink);\n",
              "        }\n",
              "      </script>\n",
              "    </div>\n",
              "  </div>\n",
              "  "
            ]
          },
          "metadata": {},
          "execution_count": 10
        }
      ]
    },
    {
      "cell_type": "markdown",
      "source": [
        "To download the table into a csv format, run the code below:"
      ],
      "metadata": {
        "id": "H3nmu1QNcNhb"
      }
    },
    {
      "cell_type": "code",
      "source": [
        "df.to_csv(\"klcc.csv\")\n",
        "\n",
        "from google.colab import files\n",
        "files.download(\"klcc.csv\")"
      ],
      "metadata": {
        "colab": {
          "base_uri": "https://localhost:8080/",
          "height": 17
        },
        "id": "q8lAbWQRb6Uj",
        "outputId": "e1d9616c-f9f5-4599-e297-c599d1efa179"
      },
      "execution_count": 11,
      "outputs": [
        {
          "output_type": "display_data",
          "data": {
            "text/plain": [
              "<IPython.core.display.Javascript object>"
            ],
            "application/javascript": [
              "\n",
              "    async function download(id, filename, size) {\n",
              "      if (!google.colab.kernel.accessAllowed) {\n",
              "        return;\n",
              "      }\n",
              "      const div = document.createElement('div');\n",
              "      const label = document.createElement('label');\n",
              "      label.textContent = `Downloading \"${filename}\": `;\n",
              "      div.appendChild(label);\n",
              "      const progress = document.createElement('progress');\n",
              "      progress.max = size;\n",
              "      div.appendChild(progress);\n",
              "      document.body.appendChild(div);\n",
              "\n",
              "      const buffers = [];\n",
              "      let downloaded = 0;\n",
              "\n",
              "      const channel = await google.colab.kernel.comms.open(id);\n",
              "      // Send a message to notify the kernel that we're ready.\n",
              "      channel.send({})\n",
              "\n",
              "      for await (const message of channel.messages) {\n",
              "        // Send a message to notify the kernel that we're ready.\n",
              "        channel.send({})\n",
              "        if (message.buffers) {\n",
              "          for (const buffer of message.buffers) {\n",
              "            buffers.push(buffer);\n",
              "            downloaded += buffer.byteLength;\n",
              "            progress.value = downloaded;\n",
              "          }\n",
              "        }\n",
              "      }\n",
              "      const blob = new Blob(buffers, {type: 'application/binary'});\n",
              "      const a = document.createElement('a');\n",
              "      a.href = window.URL.createObjectURL(blob);\n",
              "      a.download = filename;\n",
              "      div.appendChild(a);\n",
              "      a.click();\n",
              "      div.remove();\n",
              "    }\n",
              "  "
            ]
          },
          "metadata": {}
        },
        {
          "output_type": "display_data",
          "data": {
            "text/plain": [
              "<IPython.core.display.Javascript object>"
            ],
            "application/javascript": [
              "download(\"download_470b0956-370d-4da4-a417-a7be93237347\", \"klcc.csv\", 170108)"
            ]
          },
          "metadata": {}
        }
      ]
    },
    {
      "cell_type": "code",
      "source": [],
      "metadata": {
        "id": "RDiLvWzL4MS6"
      },
      "execution_count": null,
      "outputs": []
    }
  ]
}